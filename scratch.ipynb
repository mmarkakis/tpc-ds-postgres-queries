{
 "cells": [
  {
   "cell_type": "code",
   "execution_count": 8,
   "metadata": {},
   "outputs": [
    {
     "data": {
      "text/plain": [
       "(197, 24)"
      ]
     },
     "execution_count": 8,
     "metadata": {},
     "output_type": "execute_result"
    }
   ],
   "source": [
    "import pandas as pd \n",
    "\n",
    "pd.set_option('display.max_columns', None)\n",
    "pd.set_option('display.max_rows', None)\n",
    "pd.set_option('display.max_colwidth', None)\n",
    "\n",
    "df = pd.read_pickle(\"./metrics/sys_query_history.pkl\")\n",
    "good_ids = list(df[df['query_text'].str.startswith('-- Filename: query')]['query_id'].unique())\n",
    "df['query_text'] = df['query_text'].str[18:21] # Extract only the template number out of the query text\n",
    "df = df[df['query_id'].isin(good_ids)]\n",
    "df.shape"
   ]
  },
  {
   "cell_type": "code",
   "execution_count": 23,
   "metadata": {},
   "outputs": [
    {
     "data": {
      "text/plain": [
       "user_id                      int64\n",
       "query_id                     int64\n",
       "query_label                 object\n",
       "transaction_id               int64\n",
       "session_id                   int64\n",
       "database_name               object\n",
       "query_type                  object\n",
       "status                      object\n",
       "result_cache_hit              bool\n",
       "start_time          datetime64[ns]\n",
       "end_time            datetime64[ns]\n",
       "elapsed_time                 int64\n",
       "queue_time                   int64\n",
       "execution_time               int64\n",
       "error_message               object\n",
       "returned_rows                int64\n",
       "returned_bytes               int64\n",
       "query_text                  object\n",
       "redshift_version            object\n",
       "usage_limit                 object\n",
       "compute_type                object\n",
       "compile_time                 int64\n",
       "planning_time                int64\n",
       "lock_wait_time               int64\n",
       "dtype: object"
      ]
     },
     "execution_count": 23,
     "metadata": {},
     "output_type": "execute_result"
    }
   ],
   "source": [
    "df.dtypes"
   ]
  },
  {
   "cell_type": "code",
   "execution_count": 34,
   "metadata": {},
   "outputs": [
    {
     "data": {
      "text/html": [
       "<div>\n",
       "<style scoped>\n",
       "    .dataframe tbody tr th:only-of-type {\n",
       "        vertical-align: middle;\n",
       "    }\n",
       "\n",
       "    .dataframe tbody tr th {\n",
       "        vertical-align: top;\n",
       "    }\n",
       "\n",
       "    .dataframe thead th {\n",
       "        text-align: right;\n",
       "    }\n",
       "</style>\n",
       "<table border=\"1\" class=\"dataframe\">\n",
       "  <thead>\n",
       "    <tr style=\"text-align: right;\">\n",
       "      <th></th>\n",
       "      <th>elapsed_time</th>\n",
       "    </tr>\n",
       "    <tr>\n",
       "      <th>query_text</th>\n",
       "      <th></th>\n",
       "    </tr>\n",
       "  </thead>\n",
       "  <tbody>\n",
       "    <tr>\n",
       "      <th>014</th>\n",
       "      <td>27670986.0</td>\n",
       "    </tr>\n",
       "    <tr>\n",
       "      <th>069</th>\n",
       "      <td>25650287.0</td>\n",
       "    </tr>\n",
       "    <tr>\n",
       "      <th>057</th>\n",
       "      <td>18973834.0</td>\n",
       "    </tr>\n",
       "    <tr>\n",
       "      <th>075</th>\n",
       "      <td>18473916.0</td>\n",
       "    </tr>\n",
       "    <tr>\n",
       "      <th>058</th>\n",
       "      <td>17477191.0</td>\n",
       "    </tr>\n",
       "    <tr>\n",
       "      <th>076</th>\n",
       "      <td>17286600.0</td>\n",
       "    </tr>\n",
       "    <tr>\n",
       "      <th>033</th>\n",
       "      <td>16937706.0</td>\n",
       "    </tr>\n",
       "    <tr>\n",
       "      <th>083</th>\n",
       "      <td>16925073.0</td>\n",
       "    </tr>\n",
       "    <tr>\n",
       "      <th>038</th>\n",
       "      <td>15388387.0</td>\n",
       "    </tr>\n",
       "    <tr>\n",
       "      <th>060</th>\n",
       "      <td>14367839.0</td>\n",
       "    </tr>\n",
       "    <tr>\n",
       "      <th>059</th>\n",
       "      <td>14284992.0</td>\n",
       "    </tr>\n",
       "    <tr>\n",
       "      <th>023</th>\n",
       "      <td>13895572.0</td>\n",
       "    </tr>\n",
       "    <tr>\n",
       "      <th>072</th>\n",
       "      <td>13801302.0</td>\n",
       "    </tr>\n",
       "    <tr>\n",
       "      <th>030</th>\n",
       "      <td>13715200.0</td>\n",
       "    </tr>\n",
       "    <tr>\n",
       "      <th>061</th>\n",
       "      <td>13268415.0</td>\n",
       "    </tr>\n",
       "    <tr>\n",
       "      <th>091</th>\n",
       "      <td>12733379.0</td>\n",
       "    </tr>\n",
       "    <tr>\n",
       "      <th>044</th>\n",
       "      <td>11865024.0</td>\n",
       "    </tr>\n",
       "    <tr>\n",
       "      <th>064</th>\n",
       "      <td>11663074.0</td>\n",
       "    </tr>\n",
       "    <tr>\n",
       "      <th>047</th>\n",
       "      <td>11594445.0</td>\n",
       "    </tr>\n",
       "    <tr>\n",
       "      <th>029</th>\n",
       "      <td>11590790.0</td>\n",
       "    </tr>\n",
       "  </tbody>\n",
       "</table>\n",
       "</div>"
      ],
      "text/plain": [
       "            elapsed_time\n",
       "query_text              \n",
       "014           27670986.0\n",
       "069           25650287.0\n",
       "057           18973834.0\n",
       "075           18473916.0\n",
       "058           17477191.0\n",
       "076           17286600.0\n",
       "033           16937706.0\n",
       "083           16925073.0\n",
       "038           15388387.0\n",
       "060           14367839.0\n",
       "059           14284992.0\n",
       "023           13895572.0\n",
       "072           13801302.0\n",
       "030           13715200.0\n",
       "061           13268415.0\n",
       "091           12733379.0\n",
       "044           11865024.0\n",
       "064           11663074.0\n",
       "047           11594445.0\n",
       "029           11590790.0"
      ]
     },
     "execution_count": 34,
     "metadata": {},
     "output_type": "execute_result"
    }
   ],
   "source": [
    "df[(df['status'].str.startswith('success')) & ~df['result_cache_hit']].groupby('query_text').agg({'elapsed_time': 'mean'}).sort_values('elapsed_time', ascending=False).head(20)"
   ]
  },
  {
   "cell_type": "code",
   "execution_count": null,
   "metadata": {},
   "outputs": [],
   "source": []
  }
 ],
 "metadata": {
  "kernelspec": {
   "display_name": "Python 3",
   "language": "python",
   "name": "python3"
  },
  "language_info": {
   "codemirror_mode": {
    "name": "ipython",
    "version": 3
   },
   "file_extension": ".py",
   "mimetype": "text/x-python",
   "name": "python",
   "nbconvert_exporter": "python",
   "pygments_lexer": "ipython3",
   "version": "3.11.5+"
  }
 },
 "nbformat": 4,
 "nbformat_minor": 2
}
