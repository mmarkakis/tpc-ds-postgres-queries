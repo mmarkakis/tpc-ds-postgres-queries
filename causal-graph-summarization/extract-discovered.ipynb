{
 "cells": [
  {
   "cell_type": "code",
   "execution_count": 36,
   "metadata": {},
   "outputs": [],
   "source": [
    "# Read in a networkx digraph from this file: /home/markakis/tpc-ds-postgres-queries/causal-discovery/2024-07-03 17:36:14.157556-sys_query_history_preprocessed.pkl_gpt_gpt-4.pkl\n",
    "\n",
    "import networkx as nx\n",
    "import matplotlib.pyplot as plt\n",
    "import pickle\n",
    "import sys\n",
    "sys.path.append(\"../scripts\")\n",
    "import pandas as pd\n",
    "from graph_renderer import GraphRenderer\n",
    "\n",
    "G = nx.DiGraph()\n",
    "\n",
    "\n",
    "node_list = ['result_cache_hit',\n",
    " 'elapsed_time',\n",
    " 'query_template',\n",
    " 'execution_time',\n",
    " 'compile_time',\n",
    " 'planning_time',\n",
    " 'num_columns',\n",
    " 'num_joins',\n",
    " 'returned_rows',\n",
    " 'lock_wait_time',\n",
    " 'num_tables',\n",
    " 'returned_bytes']\n",
    "G.add_nodes_from(node_list)\n",
    "\n",
    "\n",
    "edge_list = [( 'query_template' , 'returned_rows'),\n",
    "( 'query_template' , 'returned_bytes'),\n",
    "( 'returned_rows' , 'returned_bytes'),\n",
    "( 'query_template' , 'num_tables'),\n",
    "( 'query_template' , 'num_columns'),\n",
    "( 'query_template' , 'num_joins'),\n",
    "\n",
    "( 'num_tables' , 'planning_time'),\n",
    "( 'num_joins' , 'planning_time'),\n",
    "( 'num_tables' , 'lock_wait_time'),\n",
    "( 'num_joins' , 'lock_wait_time'),\n",
    "( 'num_tables' , 'execution_time'),\n",
    "( 'num_joins' , 'execution_time'),\n",
    "( 'num_columns' , 'execution_time'),\n",
    "( 'num_columns' , 'returned_bytes'),\n",
    "\n",
    "\n",
    "( 'query_template' , 'result_cache_hit'),\n",
    "( 'result_cache_hit' , 'compile_time'),\n",
    "( 'result_cache_hit' , 'planning_time'),\n",
    "( 'result_cache_hit' , 'execution_time'),\n",
    "( 'result_cache_hit' , 'lock_wait_time'),\n",
    "\n",
    "\n",
    "( 'compile_time' , 'elapsed_time'),\n",
    "( 'planning_time' , 'elapsed_time'),\n",
    "( 'execution_time' , 'elapsed_time'),\n",
    "( 'lock_wait_time' , 'elapsed_time'),\n",
    "]\n",
    "\n",
    "G.add_edges_from(edge_list)\n",
    "\n",
    "# Save the graph as png\n",
    "vars_dict = {n:n for n in node_list}\n",
    "GraphRenderer.save_graph(\n",
    "    G, vars_dict, f\"/home/markakis/tpc-ds-postgres-queries/causal-discovery/2024-07-03 17:36:14.157556-sys_query_history_preprocessed.pkl_manual.png\"\n",
    ")\n",
    "\n",
    "# Write out graph as pickle\n",
    "with open(f\"/home/markakis/tpc-ds-postgres-queries/causal-discovery/2024-07-03 17:36:14.157556-sys_query_history_preprocessed.pkl_manual.pkl\", \"wb\") as f:\n",
    "    pickle.dump(G, f)\n",
    "\n"
   ]
  },
  {
   "cell_type": "code",
   "execution_count": 28,
   "metadata": {},
   "outputs": [
    {
     "data": {
      "text/plain": [
       "OutEdgeView([('result_cache_hit', 'elapsed_time'), ('elapsed_time', 'execution_time'), ('query_template', 'result_cache_hit'), ('query_template', 'elapsed_time'), ('query_template', 'execution_time'), ('query_template', 'returned_rows'), ('query_template', 'returned_bytes'), ('query_template', 'compile_time'), ('query_template', 'planning_time'), ('query_template', 'lock_wait_time'), ('query_template', 'num_joins'), ('execution_time', 'returned_rows'), ('execution_time', 'planning_time'), ('compile_time', 'elapsed_time'), ('planning_time', 'elapsed_time'), ('planning_time', 'lock_wait_time'), ('num_columns', 'elapsed_time'), ('num_columns', 'execution_time'), ('num_columns', 'returned_bytes'), ('num_columns', 'planning_time'), ('num_columns', 'query_template'), ('num_columns', 'num_joins'), ('num_joins', 'elapsed_time'), ('num_joins', 'execution_time'), ('num_joins', 'returned_bytes'), ('num_joins', 'planning_time'), ('num_joins', 'lock_wait_time'), ('returned_rows', 'lock_wait_time'), ('lock_wait_time', 'execution_time'), ('num_tables', 'execution_time'), ('num_tables', 'returned_rows'), ('num_tables', 'compile_time'), ('num_tables', 'planning_time'), ('num_tables', 'lock_wait_time'), ('num_tables', 'num_columns')])"
      ]
     },
     "execution_count": 28,
     "metadata": {},
     "output_type": "execute_result"
    }
   ],
   "source": [
    "G.edges"
   ]
  },
  {
   "cell_type": "code",
   "execution_count": 33,
   "metadata": {},
   "outputs": [
    {
     "data": {
      "text/plain": [
       "['result_cache_hit',\n",
       " 'elapsed_time',\n",
       " 'query_template',\n",
       " 'execution_time',\n",
       " 'compile_time',\n",
       " 'planning_time',\n",
       " 'num_columns',\n",
       " 'num_joins',\n",
       " 'returned_rows',\n",
       " 'lock_wait_time',\n",
       " 'num_tables',\n",
       " 'returned_bytes']"
      ]
     },
     "execution_count": 33,
     "metadata": {},
     "output_type": "execute_result"
    }
   ],
   "source": [
    "list(G.nodes())"
   ]
  },
  {
   "cell_type": "code",
   "execution_count": 31,
   "metadata": {},
   "outputs": [
    {
     "name": "stdout",
     "output_type": "stream",
     "text": [
      "result_cache_hit elapsed_time\n",
      "elapsed_time execution_time\n",
      "query_template result_cache_hit\n",
      "query_template elapsed_time\n",
      "query_template execution_time\n",
      "query_template returned_rows\n",
      "query_template returned_bytes\n",
      "query_template compile_time\n",
      "query_template planning_time\n",
      "query_template lock_wait_time\n",
      "query_template num_joins\n",
      "execution_time returned_rows\n",
      "execution_time planning_time\n",
      "compile_time elapsed_time\n",
      "planning_time elapsed_time\n",
      "planning_time lock_wait_time\n",
      "num_columns elapsed_time\n",
      "num_columns execution_time\n",
      "num_columns returned_bytes\n",
      "num_columns planning_time\n",
      "num_columns query_template\n",
      "num_columns num_joins\n",
      "num_joins elapsed_time\n",
      "num_joins execution_time\n",
      "num_joins returned_bytes\n",
      "num_joins planning_time\n",
      "num_joins lock_wait_time\n",
      "returned_rows lock_wait_time\n",
      "lock_wait_time execution_time\n",
      "num_tables execution_time\n",
      "num_tables returned_rows\n",
      "num_tables compile_time\n",
      "num_tables planning_time\n",
      "num_tables lock_wait_time\n",
      "num_tables num_columns\n"
     ]
    }
   ],
   "source": [
    "for edge in G.edges():\n",
    "    print(f'{edge[0]} {edge[1]}')"
   ]
  },
  {
   "cell_type": "code",
   "execution_count": 29,
   "metadata": {},
   "outputs": [
    {
     "data": {
      "text/plain": [
       "['result_cache_hit',\n",
       " 'elapsed_time',\n",
       " 'execution_time',\n",
       " 'returned_rows',\n",
       " 'returned_bytes',\n",
       " 'compile_time',\n",
       " 'planning_time',\n",
       " 'lock_wait_time',\n",
       " 'query_template',\n",
       " 'num_tables',\n",
       " 'num_columns',\n",
       " 'num_joins']"
      ]
     },
     "execution_count": 29,
     "metadata": {},
     "output_type": "execute_result"
    }
   ],
   "source": [
    "list(df.columns)"
   ]
  },
  {
   "cell_type": "code",
   "execution_count": 30,
   "metadata": {},
   "outputs": [
    {
     "data": {
      "text/plain": [
       "12"
      ]
     },
     "execution_count": 30,
     "metadata": {},
     "output_type": "execute_result"
    }
   ],
   "source": [
    "len(df.columns)"
   ]
  },
  {
   "cell_type": "code",
   "execution_count": null,
   "metadata": {},
   "outputs": [],
   "source": []
  }
 ],
 "metadata": {
  "kernelspec": {
   "display_name": "logs-venv",
   "language": "python",
   "name": "python3"
  },
  "language_info": {
   "codemirror_mode": {
    "name": "ipython",
    "version": 3
   },
   "file_extension": ".py",
   "mimetype": "text/x-python",
   "name": "python",
   "nbconvert_exporter": "python",
   "pygments_lexer": "ipython3",
   "version": "3.12.4"
  }
 },
 "nbformat": 4,
 "nbformat_minor": 2
}
